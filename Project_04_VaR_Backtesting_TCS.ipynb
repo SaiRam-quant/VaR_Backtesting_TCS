{
 "cells": [
  {
   "cell_type": "markdown",
   "id": "ff9dfa50",
   "metadata": {},
   "source": [
    "# 📉 VaR Backtesting – TCS Stock\n",
    "\n",
    "**Project Goal:** Backtest a 1-day 99% Historical Value at Risk (VaR) model using TCS daily stock returns over 250 days.\n",
    "\n",
    "We will:\n",
    "- Calculate daily returns\n",
    "- Compute 99% Historical VaR\n",
    "- Count the number of breaches\n",
    "- Visualize breaches vs actual returns"
   ]
  },
  {
   "cell_type": "code",
   "execution_count": null,
   "id": "e79bf000",
   "metadata": {},
   "outputs": [],
   "source": [
    "import pandas as pd\n",
    "import numpy as np\n",
    "import matplotlib.pyplot as plt\n",
    "import seaborn as sns"
   ]
  },
  {
   "cell_type": "markdown",
   "id": "c9cad050",
   "metadata": {},
   "source": [
    "## 📥 Step 1: Load TCS Historical Price Data"
   ]
  },
  {
   "cell_type": "code",
   "execution_count": null,
   "id": "a6880872",
   "metadata": {},
   "outputs": [],
   "source": [
    "# Replace this with your actual CSV file path\n",
    "data = pd.read_csv('TCS_250_day_prices.csv')  # CSV must have 'Date' and 'Close'\n",
    "data['Date'] = pd.to_datetime(data['Date'])\n",
    "data.set_index('Date', inplace=True)\n",
    "data = data.sort_index()\n",
    "data['Return'] = data['Close'].pct_change()\n",
    "data.dropna(inplace=True)"
   ]
  },
  {
   "cell_type": "markdown",
   "id": "aea6cee0",
   "metadata": {},
   "source": [
    "## 📉 Step 2: Calculate 1-Day 99% Historical VaR"
   ]
  },
  {
   "cell_type": "code",
   "execution_count": null,
   "id": "b86f6546",
   "metadata": {},
   "outputs": [],
   "source": [
    "VaR_99 = np.percentile(data['Return'], 1)\n",
    "print(f\"1-Day 99% Historical VaR: {VaR_99:.4%}\")"
   ]
  },
  {
   "cell_type": "markdown",
   "id": "903797f6",
   "metadata": {},
   "source": [
    "## 🧪 Step 3: Backtesting – Count VaR Breaches"
   ]
  },
  {
   "cell_type": "code",
   "execution_count": null,
   "id": "117ab48c",
   "metadata": {},
   "outputs": [],
   "source": [
    "data['VaR_Breach'] = data['Return'] < VaR_99\n",
    "breaches = data['VaR_Breach'].sum()\n",
    "print(f\"Number of VaR breaches: {breaches} out of {len(data)} days\")"
   ]
  },
  {
   "cell_type": "markdown",
   "id": "2a055ae5",
   "metadata": {},
   "source": [
    "## 📊 Step 4: Visualize VaR vs Returns"
   ]
  },
  {
   "cell_type": "code",
   "execution_count": null,
   "id": "67a17f78",
   "metadata": {},
   "outputs": [],
   "source": [
    "plt.figure(figsize=(12,6))\n",
    "plt.plot(data.index, data['Return'], label='Daily Return')\n",
    "plt.axhline(y=VaR_99, color='red', linestyle='--', label=f'VaR 99% ({VaR_99:.2%})')\n",
    "plt.fill_between(data.index, VaR_99, data['Return'], where=data['VaR_Breach'], color='red', alpha=0.3)\n",
    "plt.title('TCS Daily Returns with 99% Historical VaR Breaches')\n",
    "plt.ylabel('Return')\n",
    "plt.xlabel('Date')\n",
    "plt.legend()\n",
    "plt.grid(True)\n",
    "plt.tight_layout()\n",
    "plt.show()"
   ]
  },
  {
   "cell_type": "markdown",
   "id": "53b31d65",
   "metadata": {},
   "source": [
    "## 📋 Step 5: Summary"
   ]
  },
  {
   "cell_type": "code",
   "execution_count": null,
   "id": "7aa2f014",
   "metadata": {},
   "outputs": [],
   "source": [
    "expected_breaches = round(0.01 * len(data))\n",
    "print(f\"\\n✅ Expected breaches at 99% VaR over {len(data)} days: ~{expected_breaches}\")\n",
    "print(f\"🔍 Observed breaches: {breaches}\")\n",
    "\n",
    "if breaches > expected_breaches + 2:\n",
    "    print(\"⚠️ Model underpredicting risk. Consider revising distribution assumptions or using Expected Shortfall.\")\n",
    "elif breaches < expected_breaches - 2:\n",
    "    print(\"ℹ️ Model may be conservative.\")\n",
    "else:\n",
    "    print(\"✅ Model performance appears statistically reasonable.\")"
   ]
  }
 ],
 "metadata": {},
 "nbformat": 4,
 "nbformat_minor": 5
}
